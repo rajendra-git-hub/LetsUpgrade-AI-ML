{
 "cells": [
  {
   "cell_type": "markdown",
   "metadata": {},
   "source": [
    "# Question 1 :\n",
    "Write a Python program to find the first 20 non-even prime natural numbers.\n"
   ]
  },
  {
   "cell_type": "code",
   "execution_count": 13,
   "metadata": {},
   "outputs": [
    {
     "name": "stdout",
     "output_type": "stream",
     "text": [
      "1,3,5,7,9,"
     ]
    }
   ],
   "source": [
    "range (20)\n",
    "\n",
    "for i in range (1, 10, 2):\n",
    "    print (i, end=',')"
   ]
  },
  {
   "cell_type": "code",
   "execution_count": 21,
   "metadata": {},
   "outputs": [
    {
     "name": "stdout",
     "output_type": "stream",
     "text": [
      "1,3,5,7,9,11,13,15,17,19,21,23,25,27,29,31,33,35,37,39,"
     ]
    }
   ],
   "source": [
    "range (100)\n",
    "for i in range (1, 40, 2):\n",
    "    print (i, end=',')"
   ]
  },
  {
   "cell_type": "markdown",
   "metadata": {},
   "source": [
    "# Question 2 :\n",
    "Write a Python program to implement 15 functions of string.\n"
   ]
  },
  {
   "cell_type": "code",
   "execution_count": 63,
   "metadata": {},
   "outputs": [
    {
     "name": "stdout",
     "output_type": "stream",
     "text": [
      "rajendra\n",
      "r\n",
      "n\n",
      "rajen\n",
      "ajendr\n",
      "rajendra\n",
      "rajendra patil\n",
      "RAJENDRA\n",
      "rajendra\n",
      " patil\n",
      "RAJENDRA\n",
      "True\n",
      "rfjendrf\n",
      "6\n"
     ]
    }
   ],
   "source": [
    "a = (\"rajendra\")\n",
    "b = (\" patil\")\n",
    "print (a)\n",
    "\n",
    "print (a[6])\n",
    "\n",
    "print (a[-4])\n",
    "\n",
    "print (a[:5])\n",
    "\n",
    "print (a[1:7])\n",
    "\n",
    "print (a[:])\n",
    "\n",
    "print (a+b)\n",
    "\n",
    "print (a.upper())\n",
    "\n",
    "print (a.lower())\n",
    "\n",
    "print (b.lower())\n",
    "\n",
    "print (a.swapcase())\n",
    "\n",
    "print (a.isalpha())\n",
    "\n",
    "print (a.replace(\"a\", \"f\"))\n",
    "\n",
    "print (len(b))\n",
    "\n"
   ]
  },
  {
   "cell_type": "markdown",
   "metadata": {},
   "source": [
    "# Question 3:\n",
    "Write a Python program to check if the given string is a Palindrome or Anagram or None of them.\n",
    "Display the message accordingly to the user"
   ]
  },
  {
   "cell_type": "code",
   "execution_count": 117,
   "metadata": {},
   "outputs": [
    {
     "name": "stdout",
     "output_type": "stream",
     "text": [
      "Enter any name : ana\n",
      "The given name is PALINDROME\n"
     ]
    }
   ],
   "source": [
    "# Palindrome or none of them\n",
    "\n",
    "name = input('Enter any name : ')\n",
    "try:\n",
    "    val = str(name)\n",
    "    if name == str(name)[::-1]:\n",
    "        print('The given name is PALINDROME')\n",
    "    else:\n",
    "        print('The given name is NOT a palindrome')\n",
    "except ValueError:\n",
    "    print(\"That's not a valid name, Try Again !\")"
   ]
  },
  {
   "cell_type": "code",
   "execution_count": 118,
   "metadata": {},
   "outputs": [
    {
     "name": "stdout",
     "output_type": "stream",
     "text": [
      "Enter any name : raju\n",
      "Enter any name : raju\n",
      "The strings are anagrams.\n"
     ]
    }
   ],
   "source": [
    "# Anagrams\n",
    "\n",
    "s1 = input('Enter any name : ')\n",
    "s2 = input('Enter any name : ')\n",
    "def check(s1, s2): \n",
    "      \n",
    "    # the sorted strings are checked  \n",
    "    if(sorted(s1)== sorted(s2)): \n",
    "        print(\"The strings are anagrams.\")  \n",
    "    else: \n",
    "        print(\"The strings aren't anagrams.\") \n",
    "        \n",
    "check (s1, s2)"
   ]
  },
  {
   "cell_type": "markdown",
   "metadata": {},
   "source": [
    "# Question 4:\n",
    "Write a Python's user defined function that removes all the additional characters from the string\n",
    "and converts it finally to lower case using built-in lower(). eg: If the string is \"Dr. Darshan Ingle\n",
    "@AI-ML Trainer\", then the output be \"drdarshaningleaimltrainer\"."
   ]
  },
  {
   "cell_type": "code",
   "execution_count": 112,
   "metadata": {},
   "outputs": [
    {
     "name": "stdout",
     "output_type": "stream",
     "text": [
      "mr.rajendra ramesh patil@ai-ml student\n"
     ]
    }
   ],
   "source": [
    "a = (\"Mr.Rajendra Ramesh Patil\")\n",
    "b = (\"@AI-ML Student\")\n",
    "\n",
    "c = a+b\n",
    "print (c.lower())\n"
   ]
  }
 ],
 "metadata": {
  "kernelspec": {
   "display_name": "Python 3",
   "language": "python",
   "name": "python3"
  },
  "language_info": {
   "codemirror_mode": {
    "name": "ipython",
    "version": 3
   },
   "file_extension": ".py",
   "mimetype": "text/x-python",
   "name": "python",
   "nbconvert_exporter": "python",
   "pygments_lexer": "ipython3",
   "version": "3.7.6"
  }
 },
 "nbformat": 4,
 "nbformat_minor": 4
}
