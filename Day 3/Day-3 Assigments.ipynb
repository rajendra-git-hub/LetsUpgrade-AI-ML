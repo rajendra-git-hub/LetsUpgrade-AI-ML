{
 "cells": [
  {
   "cell_type": "markdown",
   "metadata": {},
   "source": [
    "# Question 1 :\n",
    "___Write a program to subtract two complex numbers in Python.___\n"
   ]
  },
  {
   "cell_type": "code",
   "execution_count": 24,
   "metadata": {},
   "outputs": [
    {
     "name": "stdout",
     "output_type": "stream",
     "text": [
      "Subtraction of complex number is = (-4+43j)\n"
     ]
    }
   ],
   "source": [
    "a = (50j+2)\n",
    "b = (6+7j)\n",
    "print (\"Subtraction of complex number is =\",a-b)"
   ]
  },
  {
   "cell_type": "markdown",
   "metadata": {},
   "source": [
    "# Question 2 :\n",
    "___Write a program to find the fourth root of a number.___"
   ]
  },
  {
   "cell_type": "code",
   "execution_count": 14,
   "metadata": {},
   "outputs": [
    {
     "data": {
      "text/plain": [
       "16"
      ]
     },
     "execution_count": 14,
     "metadata": {},
     "output_type": "execute_result"
    }
   ],
   "source": [
    "2**4"
   ]
  },
  {
   "cell_type": "markdown",
   "metadata": {},
   "source": [
    "# Question 3:\n",
    "___Write a program to swap two numbers in Python with the help of a temporary variable___"
   ]
  },
  {
   "cell_type": "code",
   "execution_count": 47,
   "metadata": {},
   "outputs": [
    {
     "name": "stdout",
     "output_type": "stream",
     "text": [
      "The value of a after swapping= 10\n",
      "The value of b after swapping= 5\n"
     ]
    }
   ],
   "source": [
    "a = 5\n",
    "b = 10\n",
    "############################\n",
    "temp = a\n",
    "a = b\n",
    "b = temp\n",
    "\n",
    "print(\"The value of a after swapping=\",a)\n",
    "print(\"The value of b after swapping=\",b)"
   ]
  },
  {
   "cell_type": "markdown",
   "metadata": {},
   "source": [
    "# Question 4:\n",
    "___Write a program to swap two numbers in Python without using a temporary variable.___"
   ]
  },
  {
   "cell_type": "code",
   "execution_count": 33,
   "metadata": {},
   "outputs": [
    {
     "name": "stdout",
     "output_type": "stream",
     "text": [
      "a = 10\n",
      "b = 5\n"
     ]
    }
   ],
   "source": [
    "a = 5\n",
    "b = 10\n",
    "\n",
    "print(\"a =\",b)\n",
    "print(\"b =\",a)"
   ]
  },
  {
   "cell_type": "markdown",
   "metadata": {},
   "source": [
    "# Question 5:\n",
    "___Write a program to convert fahrenheit to kelvin and celsius both.___\n"
   ]
  },
  {
   "cell_type": "code",
   "execution_count": 61,
   "metadata": {},
   "outputs": [
    {
     "name": "stdout",
     "output_type": "stream",
     "text": [
      "If the Fahrenheit value is =20\n",
      "Then Kelvin value is = 266.4833333333333\n",
      "Then Celsius value is = -6.666666666666667\n"
     ]
    }
   ],
   "source": [
    "fahrenheit = int(input(\"If the Fahrenheit value is =\"))\n",
    "kelvin = (fahrenheit - 32) * 5/9 + 273.15\n",
    "celsius = (fahrenheit - 32) * 5/9\n",
    "\n",
    "print (\"Then Kelvin value is =\",kelvin)\n",
    "print (\"Then Celsius value is =\",celsius)\n",
    "\n",
    "   "
   ]
  },
  {
   "cell_type": "markdown",
   "metadata": {},
   "source": [
    "# Question 6:\n",
    "___Write a program to demonstrate all the available data types in Python. Hint: Use type() function.___"
   ]
  },
  {
   "cell_type": "code",
   "execution_count": null,
   "metadata": {},
   "outputs": [],
   "source": [
    "# Integers\n",
    "a = 10\n",
    "\n",
    "# Floating\n",
    "b = 10.201\n",
    "\n",
    "# Complex\n",
    "c = 50j\n",
    "\n",
    "# String\n",
    "d = \"Rajendra\"\n",
    "type (d)\n",
    "\n",
    "# List \n",
    "e = [\"Rajendra\", \"Ramesh\", \"Patil\"]\n",
    "type (e)\n",
    "\n",
    "# Tupple\n",
    "f = (\"Rajendra\", \"Ramesh\", \"Patil\")\n",
    "type (f)\n",
    "\n",
    "# Range \n",
    "g = range(6)\n",
    "type (g)\n",
    "\n",
    "print (\"# a =\",type(a))\n",
    "print (\"# b =\",type (b))\n",
    "print (\"# c =\",type (c))\n",
    "print (\"# d =\",type (d))\n",
    "print (\"# e =\",type (e))\n",
    "print (\"# f =\",type (f))\n",
    "print (\"# g =\",type (g))"
   ]
  },
  {
   "cell_type": "markdown",
   "metadata": {},
   "source": [
    "# Question 7:\n",
    "___Create a Markdown cell in jupyter and list the steps discussed in the session by Dr. Darshan\n",
    "Ingle sir to create Github profile and upload Githubs Assignment link___"
   ]
  },
  {
   "cell_type": "markdown",
   "metadata": {},
   "source": [
    "1. Create the folder on your drive with the Class held date like \"Day 3\"\n",
    "2. Save your project in the same direcory which we have created.\n",
    "3. Register on https://github.com with your email ID which we used to register with Letsupgrade.\n",
    "4. Create the new repository with name \"LetsUpgrade-AI-ML\" and set the value is \"Public\" for the access.\n",
    "5. Verify the repository is accessible from any internet system.\n",
    "6. Open the repository.\n",
    "6. Click on the \"uploading an existing file\" option and drag-drop your project folder into it.\n",
    "7. Commit the changes.\n",
    "8. Open the Lets Upgrade Assignment form and fill out the detail into it, inclosing the repository location details\n",
    "   and submit the same.\n",
    "\n"
   ]
  }
 ],
 "metadata": {
  "kernelspec": {
   "display_name": "Python 3",
   "language": "python",
   "name": "python3"
  },
  "language_info": {
   "codemirror_mode": {
    "name": "ipython",
    "version": 3
   },
   "file_extension": ".py",
   "mimetype": "text/x-python",
   "name": "python",
   "nbconvert_exporter": "python",
   "pygments_lexer": "ipython3",
   "version": "3.7.6"
  }
 },
 "nbformat": 4,
 "nbformat_minor": 4
}
